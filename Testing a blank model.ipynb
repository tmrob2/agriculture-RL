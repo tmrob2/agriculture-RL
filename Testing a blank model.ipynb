{
 "cells": [
  {
   "cell_type": "code",
   "execution_count": 20,
   "id": "4c325661",
   "metadata": {},
   "outputs": [],
   "source": [
    "%matplotlib inline\n",
    "import os, sys\n",
    "\n",
    "import matplotlib\n",
    "matplotlib.style.use(\"ggplot\")\n",
    "import matplotlib.pyplot as plt\n",
    "import pandas as pd\n",
    "import yaml\n",
    "\n",
    "import pcse\n",
    "from pcse.models import Wofost72_WLP_FD, Wofost80_NWLP_FD_beta, LINTUL3\n",
    "from pcse.fileinput import CABOFileReader, YAMLCropDataProvider, PCSEFileReader\n",
    "from pcse.db import NASAPowerWeatherDataProvider\n",
    "from pcse.util import WOFOST72SiteDataProvider, WOFOST80SiteDataProvider\n",
    "from pcse.base import ParameterProvider\n",
    "from pcse.fileinput import YAMLAgroManagementReader\n",
    "\n",
    "import numpy as np"
   ]
  },
  {
   "cell_type": "code",
   "execution_count": 21,
   "id": "59ef3f17",
   "metadata": {},
   "outputs": [],
   "source": [
    "data_dir = os.path.join(os.getcwd(), 'farm_gym/envs/env_data/')"
   ]
  },
  {
   "cell_type": "code",
   "execution_count": 22,
   "id": "cc13f172",
   "metadata": {},
   "outputs": [
    {
     "name": "stdout",
     "output_type": "stream",
     "text": [
      "YAMLCropDataProvider - Failed to load cache file: [Errno 2] No such file or directory: 'barley'\n"
     ]
    }
   ],
   "source": [
    "crop_params_dir = os.path.join(data_dir, 'crop_params/')\n",
    "crop = YAMLCropDataProvider(crop_params_dir)"
   ]
  },
  {
   "cell_type": "code",
   "execution_count": 23,
   "id": "510c3bdb",
   "metadata": {},
   "outputs": [],
   "source": [
    "soil_data = os.path.join(data_dir, 'SOILD', 'EC4.NEW')\n",
    "soil = CABOFileReader(soil_data)"
   ]
  },
  {
   "cell_type": "code",
   "execution_count": 24,
   "id": "d237ce42",
   "metadata": {},
   "outputs": [],
   "source": [
    "sited = WOFOST72SiteDataProvider(WAV=10)"
   ]
  },
  {
   "cell_type": "code",
   "execution_count": 25,
   "id": "ec496dd6",
   "metadata": {},
   "outputs": [],
   "source": [
    "parameterprovider = ParameterProvider(soildata=soil, cropdata=crop, sitedata=sited)"
   ]
  },
  {
   "cell_type": "code",
   "execution_count": 26,
   "id": "ba04b2db",
   "metadata": {},
   "outputs": [
    {
     "name": "stdout",
     "output_type": "stream",
     "text": [
      "Weather data provided by: NASAPowerWeatherDataProvider\n",
      "--------Description---------\n",
      "NASA/POWER CERES/MERRA2 Native Resolution Daily Data\n",
      "----Site characteristics----\n",
      "Elevation:  291.1\n",
      "Latitude:  -33.385\n",
      "Longitude: 148.008\n",
      "Data available for 1984-01-01 - 2022-07-21\n",
      "Number of missing days: 1\n",
      "\n"
     ]
    }
   ],
   "source": [
    "def get_weatherdataprovider(lat, long):\n",
    "    location = (lat, long)\n",
    "    return pcse.db.NASAPowerWeatherDataProvider(*location)\n",
    "wdp = get_weatherdataprovider(-33.385300, 148.007904)\n",
    "#wdp = get_weatherdataprovider(51.970, 5.670)\n",
    "print(wdp)"
   ]
  },
  {
   "cell_type": "code",
   "execution_count": 27,
   "id": "96761c7f",
   "metadata": {},
   "outputs": [
    {
     "name": "stdout",
     "output_type": "stream",
     "text": [
      "!!python/object/new:pcse.fileinput.yaml_agro_loader.YAMLAgroManagementReader\n",
      "listitems:\n",
      "- 2006-01-01:\n",
      "    CropCalendar: null\n",
      "    StateEvents: null\n",
      "    TimedEvents: null\n",
      "\n"
     ]
    }
   ],
   "source": [
    "agro_dir = os.path.join(os.getcwd(), \"farm_gym/envs/env_data/agro/\")\n",
    "agromanagement_file = os.path.join(agro_dir, 'wofost_wheat.yaml')\n",
    "agromanagement = YAMLAgroManagementReader(agromanagement_file)\n",
    "print(agromanagement)"
   ]
  },
  {
   "cell_type": "code",
   "execution_count": 28,
   "id": "b7238f49",
   "metadata": {},
   "outputs": [],
   "source": [
    "wofost = Wofost72_WLP_FD(parameterprovider, wdp, agromanagement)"
   ]
  },
  {
   "cell_type": "code",
   "execution_count": 29,
   "id": "9bb0bc40",
   "metadata": {},
   "outputs": [],
   "source": [
    "wofost.run(days=10)"
   ]
  },
  {
   "cell_type": "code",
   "execution_count": 30,
   "id": "0fa9ece1",
   "metadata": {},
   "outputs": [],
   "source": [
    "output = pd.DataFrame(wofost.get_output()).set_index(\"day\")\n",
    "output = output.fillna(value=np.nan)\n"
   ]
  },
  {
   "cell_type": "code",
   "execution_count": 31,
   "id": "e7638883",
   "metadata": {},
   "outputs": [
    {
     "name": "stdout",
     "output_type": "stream",
     "text": [
      "2006-01-01\n"
     ]
    }
   ],
   "source": [
    "print(output.index[-1])"
   ]
  },
  {
   "cell_type": "code",
   "execution_count": 32,
   "id": "0ddc39b2",
   "metadata": {},
   "outputs": [
    {
     "name": "stdout",
     "output_type": "stream",
     "text": [
      "            DVS  LAI  TAGP  TWSO  TWLV  TWST  TWRT  TRA  RD   SM  WWLOW\n",
      "day                                                                    \n",
      "2006-01-01  NaN  NaN   NaN   NaN   NaN   NaN   NaN  NaN NaN  0.4   46.0\n"
     ]
    }
   ],
   "source": [
    "print(output)"
   ]
  },
  {
   "cell_type": "code",
   "execution_count": null,
   "id": "28bbdf0a",
   "metadata": {},
   "outputs": [],
   "source": []
  }
 ],
 "metadata": {
  "kernelspec": {
   "display_name": "Python 3 (ipykernel)",
   "language": "python",
   "name": "python3"
  },
  "language_info": {
   "codemirror_mode": {
    "name": "ipython",
    "version": 3
   },
   "file_extension": ".py",
   "mimetype": "text/x-python",
   "name": "python",
   "nbconvert_exporter": "python",
   "pygments_lexer": "ipython3",
   "version": "3.8.10"
  }
 },
 "nbformat": 4,
 "nbformat_minor": 5
}
