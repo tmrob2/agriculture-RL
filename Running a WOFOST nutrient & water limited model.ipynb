{
 "cells": [
  {
   "cell_type": "code",
   "execution_count": 1426,
   "id": "d4fbae9e",
   "metadata": {},
   "outputs": [],
   "source": [
    "%matplotlib inline\n",
    "import os, sys\n",
    "\n",
    "import matplotlib\n",
    "matplotlib.style.use(\"ggplot\")\n",
    "import matplotlib.pyplot as plt\n",
    "import pandas as pd\n",
    "import yaml\n",
    "\n",
    "import pcse\n",
    "from pcse.models import Wofost72_WLP_FD, Wofost80_NWLP_FD_beta, LINTUL3\n",
    "from pcse.fileinput import CABOFileReader, YAMLCropDataProvider, PCSEFileReader\n",
    "from pcse.db import NASAPowerWeatherDataProvider\n",
    "from pcse.util import WOFOST72SiteDataProvider\n",
    "from pcse.base import ParameterProvider\n",
    "from pcse.fileinput import YAMLAgroManagementReader"
   ]
  },
  {
   "cell_type": "code",
   "execution_count": 1427,
   "id": "e9ac73d0",
   "metadata": {},
   "outputs": [
    {
     "name": "stdout",
     "output_type": "stream",
     "text": [
      "/home/tmrob2/PycharmProjects/farming-gym\n"
     ]
    }
   ],
   "source": [
    "print(os.getcwd())"
   ]
  },
  {
   "cell_type": "code",
   "execution_count": 1428,
   "id": "e0e871cd",
   "metadata": {},
   "outputs": [],
   "source": [
    "data_dir = os.path.join(os.getcwd(), 'farm_gym/envs/env_data/')"
   ]
  },
  {
   "cell_type": "code",
   "execution_count": 1429,
   "id": "7864b71f",
   "metadata": {},
   "outputs": [
    {
     "name": "stdout",
     "output_type": "stream",
     "text": [
      "YAMLCropDataProvider - Failed to load cache file: [Errno 2] No such file or directory: 'barley'\n"
     ]
    }
   ],
   "source": [
    "crop_params_dir = os.path.join(data_dir, 'crop_params/')\n",
    "crop = YAMLCropDataProvider(crop_params_dir)"
   ]
  },
  {
   "cell_type": "code",
   "execution_count": 1430,
   "id": "7531dbda",
   "metadata": {},
   "outputs": [
    {
     "data": {
      "text/plain": [
       "{'barley': dict_keys(['Spring_barley_301']),\n",
       " 'cassava': dict_keys(['Cassava_VanHeemst_1988']),\n",
       " 'chickpea': dict_keys(['Chickpea_VanHeemst_1988']),\n",
       " 'cotton': dict_keys(['Cotton_VanHeemst_1988']),\n",
       " 'cowpea': dict_keys(['Cowpea_VanHeemst_1988']),\n",
       " 'fababean': dict_keys(['Faba_bean_801']),\n",
       " 'groundnut': dict_keys(['Groundnut_VanHeemst_1988']),\n",
       " 'maize': dict_keys(['Maize_VanHeemst_1988', 'Grain_maize_201', 'Grain_maize_202', 'Grain_maize_203', 'Grain_maize_204', 'Grain_maize_205']),\n",
       " 'millet': dict_keys(['Millet_VanHeemst_1988']),\n",
       " 'mungbean': dict_keys(['Mungbean_VanHeemst_1988']),\n",
       " 'pigeonpea': dict_keys(['Pigeonpea_VanHeemst_1988']),\n",
       " 'potato': dict_keys(['Potato_701', 'Potato_702', 'Potato_703', 'Potato_704']),\n",
       " 'rapeseed': dict_keys(['Oilseed_rape_1001', 'Oilseed_rape_1002', 'Oilseed_rape_1003', 'Oilseed_rape_1004']),\n",
       " 'rice': dict_keys(['Rice_501', 'Rice_HYV_IR8', 'Rice_IR64616H_DS', 'Rice_IR64616H_WS', 'Rice_IR64', 'Rice_IR72', 'Rice_IR72_DS', 'Rice_IR72_WS', 'Rice_IR8A']),\n",
       " 'sorghum': dict_keys(['Sorghum_VanHeemst_1988']),\n",
       " 'soybean': dict_keys(['Soybean_901', 'Soybean_902', 'Soybean_903', 'Soybean_904', 'Soybean_905', 'Soybean_906', 'Soybean_VanHeemst_1988']),\n",
       " 'sugarbeet': dict_keys(['Sugarbeet_601', 'Sugarbeet_602', 'Sugarbeet_603', 'Sugarbeet_604']),\n",
       " 'sugarcane': dict_keys(['Sugarcane_VanHeemst_1988']),\n",
       " 'sunflower': dict_keys(['Sunflower_1101']),\n",
       " 'sweetpotato': dict_keys(['Sweetpotato_VanHeemst_1988']),\n",
       " 'tobacco': dict_keys(['Tobacco_VanHeemst_1988']),\n",
       " 'wheat': dict_keys(['Winter_wheat_101', 'Winter_wheat_102', 'Winter_wheat_103', 'Winter_wheat_104', 'Winter_wheat_105', 'Winter_wheat_106', 'Winter_wheat_107']),\n",
       " 'seed_onion': dict_keys(['flevoland_agriadapt'])}"
      ]
     },
     "execution_count": 1430,
     "metadata": {},
     "output_type": "execute_result"
    }
   ],
   "source": [
    "crop.get_crops_varieties()"
   ]
  },
  {
   "cell_type": "code",
   "execution_count": 1431,
   "id": "ea905394",
   "metadata": {},
   "outputs": [],
   "source": [
    "soil_data = os.path.join(data_dir, 'SOILD', 'EC4.NEW')\n",
    "soil = CABOFileReader(soil_data)\n",
    "#soil = PCSEFileReader(soil_data)"
   ]
  },
  {
   "cell_type": "code",
   "execution_count": 1432,
   "id": "bad27c29",
   "metadata": {},
   "outputs": [],
   "source": [
    "sited = WOFOST72SiteDataProvider(WAV=10)"
   ]
  },
  {
   "cell_type": "code",
   "execution_count": 1433,
   "id": "40dfaa6c",
   "metadata": {},
   "outputs": [],
   "source": [
    "parameterprovider = ParameterProvider(soildata=soil, cropdata=crop, sitedata=sited)"
   ]
  },
  {
   "cell_type": "code",
   "execution_count": 1434,
   "id": "f4c44db1",
   "metadata": {},
   "outputs": [
    {
     "name": "stdout",
     "output_type": "stream",
     "text": [
      "Weather data provided by: NASAPowerWeatherDataProvider\n",
      "--------Description---------\n",
      "NASA/POWER CERES/MERRA2 Native Resolution Daily Data\n",
      "----Site characteristics----\n",
      "Elevation:  291.1\n",
      "Latitude:  -33.385\n",
      "Longitude: 148.008\n",
      "Data available for 1984-01-01 - 2022-07-21\n",
      "Number of missing days: 1\n",
      "\n"
     ]
    }
   ],
   "source": [
    "def get_weatherdataprovider(lat, long):\n",
    "    location = (lat, long)\n",
    "    return pcse.db.NASAPowerWeatherDataProvider(*location)\n",
    "wdp = get_weatherdataprovider(-33.385300, 148.007904)\n",
    "#wdp = get_weatherdataprovider(51.970, 5.670)\n",
    "print(wdp)"
   ]
  },
  {
   "cell_type": "code",
   "execution_count": 1435,
   "id": "f2adbb38",
   "metadata": {},
   "outputs": [
    {
     "name": "stdout",
     "output_type": "stream",
     "text": [
      "!!python/object/new:pcse.fileinput.yaml_agro_loader.YAMLAgroManagementReader\n",
      "listitems:\n",
      "- 2006-01-01:\n",
      "    CropCalendar:\n",
      "      crop_end_date: 2006-12-20\n",
      "      crop_end_type: earliest\n",
      "      crop_name: wheat\n",
      "      crop_start_date: 2006-04-15\n",
      "      crop_start_type: sowing\n",
      "      max_duration: 300\n",
      "      variety_name: Winter_wheat_101\n",
      "    StateEvents: null\n",
      "    TimedEvents:\n",
      "    - comment: All irrigation amounts in cm\n",
      "      event_signal: irrigate\n",
      "      events_table:\n",
      "      - 2006-06-01:\n",
      "          amount: 10\n",
      "          efficiency: 0.9\n",
      "      - 2006-07-01:\n",
      "          amount: 10\n",
      "          efficiency: 0.9\n",
      "      - 2006-08-05:\n",
      "          amount: 10\n",
      "          efficiency: 0.9\n",
      "      - 2006-09-05:\n",
      "          amount: 20\n",
      "          efficiency: 0.9\n",
      "      - 2006-10-05:\n",
      "          amount: 20\n",
      "          efficiency: 0.9\n",
      "      - 2006-11-05:\n",
      "          amount: 20\n",
      "          efficiency: 0.9\n",
      "      name: Irrigation application table\n",
      "\n"
     ]
    }
   ],
   "source": [
    "agro_dir = os.path.join(os.getcwd(), \"farm_gym/envs/env_data/agro/\")\n",
    "agromanagement_file = os.path.join(agro_dir, 'wofost_wheat_timed_event.yaml')\n",
    "agromanagement = YAMLAgroManagementReader(agromanagement_file)\n",
    "print(agromanagement)"
   ]
  },
  {
   "cell_type": "code",
   "execution_count": 1436,
   "id": "80184b2f",
   "metadata": {
    "scrolled": true
   },
   "outputs": [],
   "source": [
    "wofost = Wofost72_WLP_FD(parameterprovider, wdp, agromanagement)\n",
    "wofost.run_till_terminate()"
   ]
  },
  {
   "cell_type": "code",
   "execution_count": 1437,
   "id": "0d085241",
   "metadata": {
    "scrolled": true
   },
   "outputs": [
    {
     "data": {
      "text/html": [
       "<div>\n",
       "<style scoped>\n",
       "    .dataframe tbody tr th:only-of-type {\n",
       "        vertical-align: middle;\n",
       "    }\n",
       "\n",
       "    .dataframe tbody tr th {\n",
       "        vertical-align: top;\n",
       "    }\n",
       "\n",
       "    .dataframe thead th {\n",
       "        text-align: right;\n",
       "    }\n",
       "</style>\n",
       "<table border=\"1\" class=\"dataframe\">\n",
       "  <thead>\n",
       "    <tr style=\"text-align: right;\">\n",
       "      <th></th>\n",
       "      <th>DVS</th>\n",
       "      <th>LAI</th>\n",
       "      <th>TAGP</th>\n",
       "      <th>TWSO</th>\n",
       "      <th>TWLV</th>\n",
       "      <th>TWST</th>\n",
       "      <th>TWRT</th>\n",
       "      <th>TRA</th>\n",
       "      <th>RD</th>\n",
       "      <th>SM</th>\n",
       "      <th>WWLOW</th>\n",
       "    </tr>\n",
       "    <tr>\n",
       "      <th>day</th>\n",
       "      <th></th>\n",
       "      <th></th>\n",
       "      <th></th>\n",
       "      <th></th>\n",
       "      <th></th>\n",
       "      <th></th>\n",
       "      <th></th>\n",
       "      <th></th>\n",
       "      <th></th>\n",
       "      <th></th>\n",
       "      <th></th>\n",
       "    </tr>\n",
       "  </thead>\n",
       "  <tbody>\n",
       "    <tr>\n",
       "      <th>2006-11-29</th>\n",
       "      <td>1.921139</td>\n",
       "      <td>0.0</td>\n",
       "      <td>16530.674897</td>\n",
       "      <td>7608.368155</td>\n",
       "      <td>2734.419202</td>\n",
       "      <td>6187.88754</td>\n",
       "      <td>1088.577678</td>\n",
       "      <td>0.0</td>\n",
       "      <td>120.0</td>\n",
       "      <td>0.434895</td>\n",
       "      <td>52.187350</td>\n",
       "    </tr>\n",
       "    <tr>\n",
       "      <th>2006-11-30</th>\n",
       "      <td>1.943844</td>\n",
       "      <td>0.0</td>\n",
       "      <td>16530.674897</td>\n",
       "      <td>7608.368155</td>\n",
       "      <td>2734.419202</td>\n",
       "      <td>6187.88754</td>\n",
       "      <td>1088.577678</td>\n",
       "      <td>0.0</td>\n",
       "      <td>120.0</td>\n",
       "      <td>0.433654</td>\n",
       "      <td>52.038494</td>\n",
       "    </tr>\n",
       "    <tr>\n",
       "      <th>2006-12-01</th>\n",
       "      <td>1.965101</td>\n",
       "      <td>0.0</td>\n",
       "      <td>16530.674897</td>\n",
       "      <td>7608.368155</td>\n",
       "      <td>2734.419202</td>\n",
       "      <td>6187.88754</td>\n",
       "      <td>1088.577678</td>\n",
       "      <td>0.0</td>\n",
       "      <td>120.0</td>\n",
       "      <td>0.432962</td>\n",
       "      <td>51.955451</td>\n",
       "    </tr>\n",
       "    <tr>\n",
       "      <th>2006-12-02</th>\n",
       "      <td>1.990025</td>\n",
       "      <td>0.0</td>\n",
       "      <td>16530.674897</td>\n",
       "      <td>7608.368155</td>\n",
       "      <td>2734.419202</td>\n",
       "      <td>6187.88754</td>\n",
       "      <td>1088.577678</td>\n",
       "      <td>0.0</td>\n",
       "      <td>120.0</td>\n",
       "      <td>0.433699</td>\n",
       "      <td>52.043902</td>\n",
       "    </tr>\n",
       "    <tr>\n",
       "      <th>2006-12-03</th>\n",
       "      <td>2.000000</td>\n",
       "      <td>0.0</td>\n",
       "      <td>16530.674897</td>\n",
       "      <td>7608.368155</td>\n",
       "      <td>2734.419202</td>\n",
       "      <td>6187.88754</td>\n",
       "      <td>1088.577678</td>\n",
       "      <td>0.0</td>\n",
       "      <td>120.0</td>\n",
       "      <td>0.431779</td>\n",
       "      <td>51.813442</td>\n",
       "    </tr>\n",
       "  </tbody>\n",
       "</table>\n",
       "</div>"
      ],
      "text/plain": [
       "                 DVS  LAI          TAGP         TWSO         TWLV        TWST  \\\n",
       "day                                                                             \n",
       "2006-11-29  1.921139  0.0  16530.674897  7608.368155  2734.419202  6187.88754   \n",
       "2006-11-30  1.943844  0.0  16530.674897  7608.368155  2734.419202  6187.88754   \n",
       "2006-12-01  1.965101  0.0  16530.674897  7608.368155  2734.419202  6187.88754   \n",
       "2006-12-02  1.990025  0.0  16530.674897  7608.368155  2734.419202  6187.88754   \n",
       "2006-12-03  2.000000  0.0  16530.674897  7608.368155  2734.419202  6187.88754   \n",
       "\n",
       "                   TWRT  TRA     RD        SM      WWLOW  \n",
       "day                                                       \n",
       "2006-11-29  1088.577678  0.0  120.0  0.434895  52.187350  \n",
       "2006-11-30  1088.577678  0.0  120.0  0.433654  52.038494  \n",
       "2006-12-01  1088.577678  0.0  120.0  0.432962  51.955451  \n",
       "2006-12-02  1088.577678  0.0  120.0  0.433699  52.043902  \n",
       "2006-12-03  1088.577678  0.0  120.0  0.431779  51.813442  "
      ]
     },
     "execution_count": 1437,
     "metadata": {},
     "output_type": "execute_result"
    }
   ],
   "source": [
    "output = wofost.get_output()\n",
    "df = pd.DataFrame(output).set_index(\"day\")\n",
    "df.tail()"
   ]
  },
  {
   "cell_type": "code",
   "execution_count": 1438,
   "id": "f59a545e",
   "metadata": {
    "scrolled": true
   },
   "outputs": [
    {
     "data": {
      "image/png": "[encoded data removed]",
      "text/plain": [
       "<Figure size 1152x576 with 3 Axes>"
      ]
     },
     "metadata": {},
     "output_type": "display_data"
    }
   ],
   "source": [
    "fig, axes = plt.subplots(nrows=1, ncols=3, figsize=(16,8))\n",
    "df['LAI'].plot(ax=axes[0], title=\"Leaf Area Index\")\n",
    "df['SM'].plot(ax=axes[1], title=\"Root zone soil moisture\")\n",
    "df['TAGP'].plot(ax=axes[2], title=\"Total above ground production\")\n",
    "fig.autofmt_xdate()\n"
   ]
  }
 ],
 "metadata": {
  "kernelspec": {
   "display_name": "Python 3 (ipykernel)",
   "language": "python",
   "name": "python3"
  },
  "language_info": {
   "codemirror_mode": {
    "name": "ipython",
    "version": 3
   },
   "file_extension": ".py",
   "mimetype": "text/x-python",
   "name": "python",
   "nbconvert_exporter": "python",
   "pygments_lexer": "ipython3",
   "version": "3.8.10"
  }
 },
 "nbformat": 4,
 "nbformat_minor": 5
}
