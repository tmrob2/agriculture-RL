{
 "cells": [
  {
   "cell_type": "code",
   "execution_count": 511,
   "id": "d4fbae9e",
   "metadata": {},
   "outputs": [],
   "source": [
    "%matplotlib inline\n",
    "import os, sys\n",
    "\n",
    "import matplotlib\n",
    "matplotlib.style.use(\"ggplot\")\n",
    "import matplotlib.pyplot as plt\n",
    "import pandas as pd\n",
    "import yaml\n",
    "\n",
    "import pcse\n",
    "from pcse.models import Wofost72_WLP_FD, Wofost80_NWLP_FD_beta, LINTUL3\n",
    "from pcse.fileinput import CABOFileReader, YAMLCropDataProvider, PCSEFileReader\n",
    "from pcse.db import NASAPowerWeatherDataProvider\n",
    "from pcse.util import WOFOST72SiteDataProvider, WOFOST80SiteDataProvider\n",
    "from pcse.base import ParameterProvider\n",
    "from pcse.fileinput import YAMLAgroManagementReader"
   ]
  },
  {
   "cell_type": "code",
   "execution_count": 512,
   "id": "e9ac73d0",
   "metadata": {},
   "outputs": [
    {
     "name": "stdout",
     "output_type": "stream",
     "text": [
      "/home/tmrob2/PycharmProjects/farming-gym\n"
     ]
    }
   ],
   "source": [
    "print(os.getcwd())"
   ]
  },
  {
   "cell_type": "code",
   "execution_count": 513,
   "id": "e0e871cd",
   "metadata": {},
   "outputs": [],
   "source": [
    "data_dir = os.path.join(os.getcwd(), 'farm_gym/envs/env_data/')"
   ]
  },
  {
   "cell_type": "code",
   "execution_count": 514,
   "id": "7864b71f",
   "metadata": {},
   "outputs": [
    {
     "name": "stdout",
     "output_type": "stream",
     "text": [
      "YAMLCropDataProvider - Failed to load cache file: [Errno 2] No such file or directory: 'barley'\n"
     ]
    }
   ],
   "source": [
    "crop_params_dir = os.path.join(data_dir, 'crop_params/')\n",
    "crop = YAMLCropDataProvider(crop_params_dir)"
   ]
  },
  {
   "cell_type": "code",
   "execution_count": 515,
   "id": "7531dbda",
   "metadata": {},
   "outputs": [
    {
     "data": {
      "text/plain": [
       "{'barley': dict_keys(['Spring_barley_301']),\n",
       " 'cassava': dict_keys(['Cassava_VanHeemst_1988']),\n",
       " 'chickpea': dict_keys(['Chickpea_VanHeemst_1988']),\n",
       " 'cotton': dict_keys(['Cotton_VanHeemst_1988']),\n",
       " 'cowpea': dict_keys(['Cowpea_VanHeemst_1988']),\n",
       " 'fababean': dict_keys(['Faba_bean_801']),\n",
       " 'groundnut': dict_keys(['Groundnut_VanHeemst_1988']),\n",
       " 'maize': dict_keys(['Maize_VanHeemst_1988', 'Grain_maize_201', 'Grain_maize_202', 'Grain_maize_203', 'Grain_maize_204', 'Grain_maize_205']),\n",
       " 'millet': dict_keys(['Millet_VanHeemst_1988']),\n",
       " 'mungbean': dict_keys(['Mungbean_VanHeemst_1988']),\n",
       " 'pigeonpea': dict_keys(['Pigeonpea_VanHeemst_1988']),\n",
       " 'potato': dict_keys(['Potato_701', 'Potato_702', 'Potato_703', 'Potato_704']),\n",
       " 'rapeseed': dict_keys(['Oilseed_rape_1001', 'Oilseed_rape_1002', 'Oilseed_rape_1003', 'Oilseed_rape_1004']),\n",
       " 'rice': dict_keys(['Rice_501', 'Rice_HYV_IR8', 'Rice_IR64616H_DS', 'Rice_IR64616H_WS', 'Rice_IR64', 'Rice_IR72', 'Rice_IR72_DS', 'Rice_IR72_WS', 'Rice_IR8A']),\n",
       " 'sorghum': dict_keys(['Sorghum_VanHeemst_1988']),\n",
       " 'soybean': dict_keys(['Soybean_901', 'Soybean_902', 'Soybean_903', 'Soybean_904', 'Soybean_905', 'Soybean_906', 'Soybean_VanHeemst_1988']),\n",
       " 'sugarbeet': dict_keys(['Sugarbeet_601', 'Sugarbeet_602', 'Sugarbeet_603', 'Sugarbeet_604']),\n",
       " 'sugarcane': dict_keys(['Sugarcane_VanHeemst_1988']),\n",
       " 'sunflower': dict_keys(['Sunflower_1101']),\n",
       " 'sweetpotato': dict_keys(['Sweetpotato_VanHeemst_1988']),\n",
       " 'tobacco': dict_keys(['Tobacco_VanHeemst_1988']),\n",
       " 'wheat': dict_keys(['Winter_wheat_101', 'Winter_wheat_102', 'Winter_wheat_103', 'Winter_wheat_104', 'Winter_wheat_105', 'Winter_wheat_106', 'Winter_wheat_107']),\n",
       " 'seed_onion': dict_keys(['flevoland_agriadapt'])}"
      ]
     },
     "execution_count": 515,
     "metadata": {},
     "output_type": "execute_result"
    }
   ],
   "source": [
    "crop.get_crops_varieties()"
   ]
  },
  {
   "cell_type": "code",
   "execution_count": 516,
   "id": "ea905394",
   "metadata": {},
   "outputs": [],
   "source": [
    "soil_data = os.path.join(data_dir, 'SOILD', 'EC2.NEW')\n",
    "soil = CABOFileReader(soil_data)\n",
    "#soil = PCSEFileReader(soil_data)"
   ]
  },
  {
   "cell_type": "code",
   "execution_count": 517,
   "id": "bad27c29",
   "metadata": {},
   "outputs": [],
   "source": [
    "sited = WOFOST72SiteDataProvider(WAV=10)"
   ]
  },
  {
   "cell_type": "code",
   "execution_count": 518,
   "id": "40dfaa6c",
   "metadata": {},
   "outputs": [],
   "source": [
    "parameterprovider = ParameterProvider(soildata=soil, cropdata=crop, sitedata=sited)"
   ]
  },
  {
   "cell_type": "code",
   "execution_count": 519,
   "id": "f4c44db1",
   "metadata": {},
   "outputs": [
    {
     "name": "stdout",
     "output_type": "stream",
     "text": [
      "Weather data provided by: NASAPowerWeatherDataProvider\n",
      "--------Description---------\n",
      "NASA/POWER CERES/MERRA2 Native Resolution Daily Data\n",
      "----Site characteristics----\n",
      "Elevation:  133.0\n",
      "Latitude:  -36.626\n",
      "Longitude: 142.188\n",
      "Data available for 1984-01-01 - 2022-07-24\n",
      "Number of missing days: 1\n",
      "\n"
     ]
    }
   ],
   "source": [
    "def get_weatherdataprovider(lat, long):\n",
    "    location = (lat, long)\n",
    "    return pcse.db.NASAPowerWeatherDataProvider(*location)\n",
    "wdp = get_weatherdataprovider(-36.626230, 142.188370)\n",
    "#wdp = get_weatherdataprovider(51.970, 5.670)\n",
    "print(wdp)"
   ]
  },
  {
   "cell_type": "code",
   "execution_count": 520,
   "id": "f2adbb38",
   "metadata": {},
   "outputs": [
    {
     "name": "stdout",
     "output_type": "stream",
     "text": [
      "!!python/object/new:pcse.fileinput.yaml_agro_loader.YAMLAgroManagementReader\n",
      "listitems:\n",
      "- 2006-01-01:\n",
      "    CropCalendar:\n",
      "      crop_end_date: 2007-04-20\n",
      "      crop_end_type: earliest\n",
      "      crop_name: maize\n",
      "      crop_start_date: 2006-11-01\n",
      "      crop_start_type: sowing\n",
      "      max_duration: 300\n",
      "      variety_name: Maize_VanHeemst_1988\n",
      "    StateEvents: null\n",
      "    TimedEvents:\n",
      "    - comment: All irrigation amounts in cm\n",
      "      event_signal: irrigate\n",
      "      events_table:\n",
      "      - 2006-12-01:\n",
      "          amount: 20\n",
      "          efficiency: 0.7\n",
      "      - 2006-12-15:\n",
      "          amount: 20\n",
      "          efficiency: 0.7\n",
      "      - 2007-01-01:\n",
      "          amount: 10\n",
      "          efficiency: 0.7\n",
      "      name: Irrigation application table\n",
      "- 2007-04-30:\n",
      "    CropCalendar:\n",
      "      crop_end_date: 2007-12-30\n",
      "      crop_end_type: earliest\n",
      "      crop_name: wheat\n",
      "      crop_start_date: 2007-05-01\n",
      "      crop_start_type: sowing\n",
      "      max_duration: 300\n",
      "      variety_name: Winter_wheat_101\n",
      "    StateEvents: null\n",
      "    TimedEvents:\n",
      "    - comment: All irrigation amounts in cm\n",
      "      event_signal: irrigate\n",
      "      events_table:\n",
      "      - 2007-06-01:\n",
      "          amount: 20\n",
      "          efficiency: 0.7\n",
      "      - 2007-07-15:\n",
      "          amount: 20\n",
      "          efficiency: 0.7\n",
      "      - 2007-08-01:\n",
      "          amount: 10\n",
      "          efficiency: 0.7\n",
      "      name: Irrigation application table\n",
      "\n"
     ]
    }
   ],
   "source": [
    "agro_dir = os.path.join(os.getcwd(), \"farm_gym/envs/env_data/agro/\")\n",
    "agromanagement_file = os.path.join(agro_dir, 'wofost_wheat_timed_event.yaml')\n",
    "agromanagement = YAMLAgroManagementReader(agromanagement_file)\n",
    "print(agromanagement)"
   ]
  },
  {
   "cell_type": "code",
   "execution_count": 521,
   "id": "80184b2f",
   "metadata": {
    "scrolled": true
   },
   "outputs": [],
   "source": [
    "wofost = Wofost72_WLP_FD(parameterprovider, wdp, agromanagement)\n",
    "wofost.run_till_terminate()"
   ]
  },
  {
   "cell_type": "code",
   "execution_count": 522,
   "id": "0d085241",
   "metadata": {
    "scrolled": true
   },
   "outputs": [
    {
     "data": {
      "text/html": [
       "<div>\n",
       "<style scoped>\n",
       "    .dataframe tbody tr th:only-of-type {\n",
       "        vertical-align: middle;\n",
       "    }\n",
       "\n",
       "    .dataframe tbody tr th {\n",
       "        vertical-align: top;\n",
       "    }\n",
       "\n",
       "    .dataframe thead th {\n",
       "        text-align: right;\n",
       "    }\n",
       "</style>\n",
       "<table border=\"1\" class=\"dataframe\">\n",
       "  <thead>\n",
       "    <tr style=\"text-align: right;\">\n",
       "      <th></th>\n",
       "      <th>DVS</th>\n",
       "      <th>LAI</th>\n",
       "      <th>TAGP</th>\n",
       "      <th>TWSO</th>\n",
       "      <th>TWLV</th>\n",
       "      <th>TWST</th>\n",
       "      <th>TWRT</th>\n",
       "      <th>TRA</th>\n",
       "      <th>RD</th>\n",
       "      <th>SM</th>\n",
       "      <th>WWLOW</th>\n",
       "    </tr>\n",
       "    <tr>\n",
       "      <th>day</th>\n",
       "      <th></th>\n",
       "      <th></th>\n",
       "      <th></th>\n",
       "      <th></th>\n",
       "      <th></th>\n",
       "      <th></th>\n",
       "      <th></th>\n",
       "      <th></th>\n",
       "      <th></th>\n",
       "      <th></th>\n",
       "      <th></th>\n",
       "    </tr>\n",
       "  </thead>\n",
       "  <tbody>\n",
       "    <tr>\n",
       "      <th>2007-12-15</th>\n",
       "      <td>1.931248</td>\n",
       "      <td>0.0</td>\n",
       "      <td>14768.472808</td>\n",
       "      <td>1519.474953</td>\n",
       "      <td>5501.923714</td>\n",
       "      <td>7747.074141</td>\n",
       "      <td>3157.308212</td>\n",
       "      <td>0.0</td>\n",
       "      <td>120.0</td>\n",
       "      <td>0.102238</td>\n",
       "      <td>12.268530</td>\n",
       "    </tr>\n",
       "    <tr>\n",
       "      <th>2007-12-16</th>\n",
       "      <td>1.947111</td>\n",
       "      <td>0.0</td>\n",
       "      <td>14768.472808</td>\n",
       "      <td>1519.474953</td>\n",
       "      <td>5501.923714</td>\n",
       "      <td>7747.074141</td>\n",
       "      <td>3157.308212</td>\n",
       "      <td>0.0</td>\n",
       "      <td>120.0</td>\n",
       "      <td>0.103614</td>\n",
       "      <td>12.433630</td>\n",
       "    </tr>\n",
       "    <tr>\n",
       "      <th>2007-12-17</th>\n",
       "      <td>1.963777</td>\n",
       "      <td>0.0</td>\n",
       "      <td>14768.472808</td>\n",
       "      <td>1519.474953</td>\n",
       "      <td>5501.923714</td>\n",
       "      <td>7747.074141</td>\n",
       "      <td>3157.308212</td>\n",
       "      <td>0.0</td>\n",
       "      <td>120.0</td>\n",
       "      <td>0.101521</td>\n",
       "      <td>12.182504</td>\n",
       "    </tr>\n",
       "    <tr>\n",
       "      <th>2007-12-18</th>\n",
       "      <td>1.980544</td>\n",
       "      <td>0.0</td>\n",
       "      <td>14768.472808</td>\n",
       "      <td>1519.474953</td>\n",
       "      <td>5501.923714</td>\n",
       "      <td>7747.074141</td>\n",
       "      <td>3157.308212</td>\n",
       "      <td>0.0</td>\n",
       "      <td>120.0</td>\n",
       "      <td>0.100371</td>\n",
       "      <td>12.044473</td>\n",
       "    </tr>\n",
       "    <tr>\n",
       "      <th>2007-12-19</th>\n",
       "      <td>2.000000</td>\n",
       "      <td>0.0</td>\n",
       "      <td>14768.472808</td>\n",
       "      <td>1519.474953</td>\n",
       "      <td>5501.923714</td>\n",
       "      <td>7747.074141</td>\n",
       "      <td>3157.308212</td>\n",
       "      <td>0.0</td>\n",
       "      <td>120.0</td>\n",
       "      <td>0.100073</td>\n",
       "      <td>12.008789</td>\n",
       "    </tr>\n",
       "  </tbody>\n",
       "</table>\n",
       "</div>"
      ],
      "text/plain": [
       "                 DVS  LAI          TAGP         TWSO         TWLV  \\\n",
       "day                                                                 \n",
       "2007-12-15  1.931248  0.0  14768.472808  1519.474953  5501.923714   \n",
       "2007-12-16  1.947111  0.0  14768.472808  1519.474953  5501.923714   \n",
       "2007-12-17  1.963777  0.0  14768.472808  1519.474953  5501.923714   \n",
       "2007-12-18  1.980544  0.0  14768.472808  1519.474953  5501.923714   \n",
       "2007-12-19  2.000000  0.0  14768.472808  1519.474953  5501.923714   \n",
       "\n",
       "                   TWST         TWRT  TRA     RD        SM      WWLOW  \n",
       "day                                                                    \n",
       "2007-12-15  7747.074141  3157.308212  0.0  120.0  0.102238  12.268530  \n",
       "2007-12-16  7747.074141  3157.308212  0.0  120.0  0.103614  12.433630  \n",
       "2007-12-17  7747.074141  3157.308212  0.0  120.0  0.101521  12.182504  \n",
       "2007-12-18  7747.074141  3157.308212  0.0  120.0  0.100371  12.044473  \n",
       "2007-12-19  7747.074141  3157.308212  0.0  120.0  0.100073  12.008789  "
      ]
     },
     "execution_count": 522,
     "metadata": {},
     "output_type": "execute_result"
    }
   ],
   "source": [
    "output = wofost.get_output()\n",
    "df = pd.DataFrame(output).set_index(\"day\")\n",
    "df.tail()"
   ]
  },
  {
   "cell_type": "code",
   "execution_count": 523,
   "id": "f1713fce",
   "metadata": {},
   "outputs": [
    {
     "ename": "TypeError",
     "evalue": "'builtin_function_or_method' object is not subscriptable",
     "output_type": "error",
     "traceback": [
      "\u001b[0;31m---------------------------------------------------------------------------\u001b[0m",
      "\u001b[0;31mTypeError\u001b[0m                                 Traceback (most recent call last)",
      "Input \u001b[0;32mIn [523]\u001b[0m, in \u001b[0;36m<cell line: 1>\u001b[0;34m()\u001b[0m\n\u001b[0;32m----> 1\u001b[0m df\u001b[38;5;241m.\u001b[39minsert(\u001b[38;5;241m0\u001b[39m, \u001b[38;5;124m\"\u001b[39m\u001b[38;5;124mcrop_days\u001b[39m\u001b[38;5;124m\"\u001b[39m, \u001b[43moutput\u001b[49m\u001b[38;5;241;43m.\u001b[39;49m\u001b[43mindex\u001b[49m\u001b[43m[\u001b[49m\u001b[43m:\u001b[49m\u001b[43m]\u001b[49m)\n\u001b[1;32m      2\u001b[0m df\u001b[38;5;241m.\u001b[39mtail()\n",
      "\u001b[0;31mTypeError\u001b[0m: 'builtin_function_or_method' object is not subscriptable"
     ]
    }
   ],
   "source": [
    "df.insert(0, \"crop_days\", output.index[:])\n",
    "df.tail()\n"
   ]
  },
  {
   "cell_type": "code",
   "execution_count": null,
   "id": "f59a545e",
   "metadata": {
    "scrolled": true
   },
   "outputs": [],
   "source": [
    "fig, axes = plt.subplots(nrows=1, ncols=4, figsize=(16,8))\n",
    "df['LAI'].plot(ax=axes[0], title=\"Leaf Area Index\")\n",
    "df['SM'].plot(ax=axes[1], title=\"Root zone soil moisture\")\n",
    "df['TAGP'].plot(ax=axes[2], title=\"Total above ground production\")\n",
    "df['TWLV'].plot(ax=axes[3], title=\"Total weight leaves\")\n",
    "fig.autofmt_xdate()\n"
   ]
  },
  {
   "cell_type": "code",
   "execution_count": null,
   "id": "75c68d0b",
   "metadata": {},
   "outputs": [],
   "source": []
  }
 ],
 "metadata": {
  "kernelspec": {
   "display_name": "Python 3 (ipykernel)",
   "language": "python",
   "name": "python3"
  },
  "language_info": {
   "codemirror_mode": {
    "name": "ipython",
    "version": 3
   },
   "file_extension": ".py",
   "mimetype": "text/x-python",
   "name": "python",
   "nbconvert_exporter": "python",
   "pygments_lexer": "ipython3",
   "version": "3.8.10"
  }
 },
 "nbformat": 4,
 "nbformat_minor": 5
}
